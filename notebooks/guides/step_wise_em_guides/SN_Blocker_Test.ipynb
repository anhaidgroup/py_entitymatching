{
 "cells": [
  {
   "cell_type": "code",
   "execution_count": 1,
   "metadata": {},
   "outputs": [],
   "source": [
    "import sys\n",
    "sys.path.append('/u/p/m/pmartinkus/Documents/Research/packages/py_entitymatching')"
   ]
  },
  {
   "cell_type": "code",
   "execution_count": 2,
   "metadata": {},
   "outputs": [
    {
     "data": {
      "text/plain": [
       "'0.1.0'"
      ]
     },
     "execution_count": 2,
     "metadata": {},
     "output_type": "execute_result"
    }
   ],
   "source": [
    "import py_entitymatching as em\n",
    "em.__version__"
   ]
  },
  {
   "cell_type": "code",
   "execution_count": 3,
   "metadata": {},
   "outputs": [
    {
     "name": "stderr",
     "output_type": "stream",
     "text": [
      "Metadata file is not present in the given path; proceeding to read the csv file.\n",
      "Metadata file is not present in the given path; proceeding to read the csv file.\n"
     ]
    }
   ],
   "source": [
    "A = em.read_csv_metadata('fodors.csv', key='id')\n",
    "B = em.read_csv_metadata('zagats.csv', key='id')"
   ]
  },
  {
   "cell_type": "code",
   "execution_count": 4,
   "metadata": {},
   "outputs": [],
   "source": [
    "sn = em.SortedNeighborhoodBlocker()"
   ]
  },
  {
   "cell_type": "code",
   "execution_count": 6,
   "metadata": {},
   "outputs": [],
   "source": [
    "C = sn.block_tables(A, B, 'name', 'name')"
   ]
  },
  {
   "cell_type": "code",
   "execution_count": 7,
   "metadata": {},
   "outputs": [
    {
     "data": {
      "text/html": [
       "<div>\n",
       "<style scoped>\n",
       "    .dataframe tbody tr th:only-of-type {\n",
       "        vertical-align: middle;\n",
       "    }\n",
       "\n",
       "    .dataframe tbody tr th {\n",
       "        vertical-align: top;\n",
       "    }\n",
       "\n",
       "    .dataframe thead th {\n",
       "        text-align: right;\n",
       "    }\n",
       "</style>\n",
       "<table border=\"1\" class=\"dataframe\">\n",
       "  <thead>\n",
       "    <tr style=\"text-align: right;\">\n",
       "      <th></th>\n",
       "      <th>_id</th>\n",
       "      <th>ltable_id</th>\n",
       "      <th>rtable_id</th>\n",
       "    </tr>\n",
       "  </thead>\n",
       "  <tbody>\n",
       "    <tr>\n",
       "      <th>0</th>\n",
       "      <td>0</td>\n",
       "      <td>709</td>\n",
       "      <td>142</td>\n",
       "    </tr>\n",
       "    <tr>\n",
       "      <th>1</th>\n",
       "      <td>1</td>\n",
       "      <td>709</td>\n",
       "      <td>242</td>\n",
       "    </tr>\n",
       "    <tr>\n",
       "      <th>2</th>\n",
       "      <td>2</td>\n",
       "      <td>557</td>\n",
       "      <td>242</td>\n",
       "    </tr>\n",
       "    <tr>\n",
       "      <th>3</th>\n",
       "      <td>3</td>\n",
       "      <td>649</td>\n",
       "      <td>69</td>\n",
       "    </tr>\n",
       "    <tr>\n",
       "      <th>4</th>\n",
       "      <td>4</td>\n",
       "      <td>628</td>\n",
       "      <td>313</td>\n",
       "    </tr>\n",
       "  </tbody>\n",
       "</table>\n",
       "</div>"
      ],
      "text/plain": [
       "   _id  ltable_id  rtable_id\n",
       "0    0        709        142\n",
       "1    1        709        242\n",
       "2    2        557        242\n",
       "3    3        649         69\n",
       "4    4        628        313"
      ]
     },
     "execution_count": 7,
     "metadata": {},
     "output_type": "execute_result"
    }
   ],
   "source": [
    "C.head()"
   ]
  },
  {
   "cell_type": "code",
   "execution_count": 8,
   "metadata": {},
   "outputs": [
    {
     "data": {
      "text/plain": [
       "417"
      ]
     },
     "execution_count": 8,
     "metadata": {},
     "output_type": "execute_result"
    }
   ],
   "source": [
    "len(C)"
   ]
  },
  {
   "cell_type": "code",
   "execution_count": 9,
   "metadata": {},
   "outputs": [
    {
     "name": "stdout",
     "output_type": "stream",
     "text": [
      "Help on method block_tables in module py_entitymatching.blocker.sn_blocker:\n",
      "\n",
      "block_tables(ltable, rtable, l_block_attr, r_block_attr, window_size=2, l_output_attrs=None, r_output_attrs=None, l_output_prefix='ltable_', r_output_prefix='rtable_', allow_missing=False, verbose=False, n_jobs=1) method of py_entitymatching.blocker.sn_blocker.SortedNeighborhoodBlocker instance\n",
      "    Blocks two tables based on sorted neighborhood.\n",
      "    \n",
      "    Finds tuple pairs from left and right tables such that when each table\n",
      "    is sorted based upon a blocking attribute, tuple pairs are within a\n",
      "    distance w of each other. The blocking attribute is created prior to calling\n",
      "    this function.\n",
      "    \n",
      "        Args:\n",
      "            ltable (DataFrame): The left input table.\n",
      "    \n",
      "            rtable (DataFrame): The right input table.\n",
      "    \n",
      "            l_block_attr (string): The blocking attribute for left table.\n",
      "    \n",
      "            r_block_attr (string): The blocking attribute for right table.\n",
      "    \n",
      "        window_size (int): size of sliding window\n",
      "            Defaults to 2\n",
      "    \n",
      "            l_output_attrs (list): A list of attribute names from the left\n",
      "                                   table to be included in the\n",
      "                                   output candidate set (defaults to None).\n",
      "    \n",
      "            r_output_attrs (list): A list of attribute names from the right\n",
      "                                   table to be included in the\n",
      "                                   output candidate set (defaults to None).\n",
      "    \n",
      "            l_output_prefix (string): The prefix to be used for the attribute names\n",
      "                                   coming from the left table in the output\n",
      "                                   candidate set (defaults to 'ltable\\_').\n",
      "    \n",
      "            r_output_prefix (string): The prefix to be used for the attribute names\n",
      "                                   coming from the right table in the output\n",
      "                                   candidate set (defaults to 'rtable\\_').\n",
      "    \n",
      "            allow_missing (boolean): A flag to indicate whether tuple pairs\n",
      "                                     with missing value in at least one of the\n",
      "                                     blocking attributes should be included in\n",
      "                                     the output candidate set (defaults to\n",
      "                                     False). If this flag is set to True, a\n",
      "                                     tuple in ltable with missing value in the\n",
      "                                     blocking attribute will be matched with\n",
      "                                     every tuple in rtable and vice versa.\n",
      "    \n",
      "            verbose (boolean): A flag to indicate whether the debug information\n",
      "                should be logged (defaults to False).\n",
      "    \n",
      "    \n",
      "            n_jobs (int): The number of parallel jobs to be used for computation\n",
      "                (defaults to 1). If -1 all CPUs are used. If 0 or 1,\n",
      "                no parallel computation is used at all, which is useful for\n",
      "                debugging. For n_jobs below -1, (n_cpus + 1 + n_jobs) are\n",
      "                used (where n_cpus is the total number of CPUs in the\n",
      "                machine). Thus, for n_jobs = -2, all CPUs but one are used.\n",
      "                If (n_cpus + 1 + n_jobs) is less than 1, then no parallel\n",
      "                computation is used (i.e., equivalent to the default).\n",
      "    \n",
      "        Returns:\n",
      "            A candidate set of tuple pairs that survived blocking (DataFrame).\n",
      "    \n",
      "        Raises:\n",
      "            AssertionError: If `ltable` is not of type pandas\n",
      "                DataFrame.\n",
      "            AssertionError: If `rtable` is not of type pandas\n",
      "                DataFrame.\n",
      "            AssertionError: If `l_block_attr` is not of type string.\n",
      "            AssertionError: If `r_block_attr` is not of type string.\n",
      "            AssertionError: If `window_size` is not of type of\n",
      "                int or if window_size < 2.\n",
      "            AssertionError: If the values in `l_output_attrs` is not of type\n",
      "                string.\n",
      "            AssertionError: If the values in `r_output_attrs` is not of type\n",
      "                string.\n",
      "            AssertionError: If `l_output_prefix` is not of type\n",
      "                string.\n",
      "            AssertionError: If `r_output_prefix` is not of type\n",
      "                string.\n",
      "            AssertionError: If `verbose` is not of type\n",
      "                boolean.\n",
      "            AssertionError: If `allow_missing` is not of type boolean.\n",
      "            AssertionError: If `n_jobs` is not of type\n",
      "                int.\n",
      "            AssertionError: If `l_block_attr` is not in the ltable columns.\n",
      "            AssertionError: If `r_block_attr` is not in the rtable columns.\n",
      "            AssertionError: If `l_out_attrs` are not in the ltable.\n",
      "            AssertionError: If `r_out_attrs` are not in the rtable.\n",
      "\n"
     ]
    }
   ],
   "source": [
    "help(sn.block_tables)"
   ]
  },
  {
   "cell_type": "code",
   "execution_count": 10,
   "metadata": {},
   "outputs": [],
   "source": [
    "C2 = sn.block_tables(A, B, 'name', 'name', n_jobs=-1, verbose=True)"
   ]
  },
  {
   "cell_type": "code",
   "execution_count": 11,
   "metadata": {},
   "outputs": [
    {
     "data": {
      "text/plain": [
       "429"
      ]
     },
     "execution_count": 11,
     "metadata": {},
     "output_type": "execute_result"
    }
   ],
   "source": [
    "len(C2)"
   ]
  },
  {
   "cell_type": "code",
   "execution_count": null,
   "metadata": {},
   "outputs": [],
   "source": []
  }
 ],
 "metadata": {
  "kernelspec": {
   "display_name": "Python 3",
   "language": "python",
   "name": "python3"
  },
  "language_info": {
   "codemirror_mode": {
    "name": "ipython",
    "version": 3
   },
   "file_extension": ".py",
   "mimetype": "text/x-python",
   "name": "python",
   "nbconvert_exporter": "python",
   "pygments_lexer": "ipython3",
   "version": "3.6.4"
  }
 },
 "nbformat": 4,
 "nbformat_minor": 2
}
