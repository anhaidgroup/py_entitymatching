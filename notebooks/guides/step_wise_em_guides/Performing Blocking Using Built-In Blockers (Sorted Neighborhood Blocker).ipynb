{
 "cells": [
  {
   "cell_type": "markdown",
   "metadata": {},
   "source": [
    "Contents\n",
    "========\n",
    "- [Introduction](#Introduction)\n",
    "- [Block Using the Sorted Neighborhood Blocker](#Block-Using-the-Sorted-Neighborhood-Blocker)\n",
    "  - [Block Tables to Produce a Candidate Set of Tuple Pairs](#Block-Tables-to-Produce-a-Candidate-Set-of-Tuple-Pairs)\n",
    "  - [Handling Missing Values](#Handling-Missing-Values)\n",
    "  - [Window Size](#Window-Size)\n",
    "  - [Stable Sort Order](#Stable-Sort-Order)\n",
    "- [Sorted Neighborhood Blocker Limitations](#Sorted-Neighborhood-Blocker-limitations)"
   ]
  },
  {
   "cell_type": "markdown",
   "metadata": {},
   "source": [
    "# Introduction"
   ]
  },
  {
   "cell_type": "markdown",
   "metadata": {},
   "source": [
    "Blocking is typically done to reduce the number of tuple pairs considered for matching. There are several blocking methods proposed. The *py_entitymatching* package supports a subset of such blocking methods (#ref to what is supported). One such supported blocker is the sorted neighborhood blocker. This IPython notebook illustrates how to perform blocking using the sorted neighborhood blocker.\n",
    "\n",
    "Note, often the sorted neighborhood blocking technique is used on a single table.  In this case we have implemented sorted neighborhood blocking between two tables.  We first enrich the tables with whether the table is the left table, or right table.  Then we merge the tables.  At this point we perform sorted neighborhood blocking, which is to pass a sliding window of `window_size` (default 2) across the merged dataset. Within the sliding window all tuple pairs that have one tuple from the left table and one tuple from the right table are returned."
   ]
  },
  {
   "cell_type": "markdown",
   "metadata": {},
   "source": [
    "First, we need to import *py_entitymatching* package and other libraries as follows:"
   ]
  },
  {
   "cell_type": "code",
   "execution_count": null,
   "metadata": {},
   "outputs": [],
   "source": [
    "%load_ext autotime"
   ]
  },
  {
   "cell_type": "code",
   "execution_count": null,
   "metadata": {
    "nbpresent": {
     "id": "9a89351b-e44f-47ad-afff-b148744173af"
    }
   },
   "outputs": [],
   "source": [
    "# Import py_entitymatching package\n",
    "import py_entitymatching as em\n",
    "import os\n",
    "import pandas as pd"
   ]
  },
  {
   "cell_type": "markdown",
   "metadata": {
    "nbpresent": {
     "id": "0f59e4ac-032a-4d59-9172-8ee653831acb"
    }
   },
   "source": [
    "Then, read the input tablse from the datasets directory"
   ]
  },
  {
   "cell_type": "code",
   "execution_count": null,
   "metadata": {
    "nbpresent": {
     "id": "2401accd-3160-4b07-aed4-de2f9a4dea35"
    }
   },
   "outputs": [],
   "source": [
    "# Get the datasets directory\n",
    "datasets_dir = em.get_install_path() + os.sep + 'datasets'\n",
    "\n",
    "# Get the paths of the input tables\n",
    "path_A = datasets_dir + os.sep + 'person_table_A.csv'\n",
    "path_B = datasets_dir + os.sep + 'person_table_B.csv'"
   ]
  },
  {
   "cell_type": "code",
   "execution_count": null,
   "metadata": {
    "nbpresent": {
     "id": "e51b3877-75c8-431d-bdbd-77362bbf2191"
    }
   },
   "outputs": [],
   "source": [
    "# Read the CSV files and set 'ID' as the key attribute\n",
    "A = em.read_csv_metadata(path_A, key='ID')\n",
    "B = em.read_csv_metadata(path_B, key='ID')"
   ]
  },
  {
   "cell_type": "code",
   "execution_count": null,
   "metadata": {
    "nbpresent": {
     "id": "ac2eb60b-bf26-4a6a-a453-120cc7f660c4"
    }
   },
   "outputs": [],
   "source": [
    "A.head()"
   ]
  },
  {
   "cell_type": "code",
   "execution_count": null,
   "metadata": {
    "nbpresent": {
     "id": "afadc046-692d-42ad-9c72-523493597682"
    }
   },
   "outputs": [],
   "source": [
    "B.head()"
   ]
  },
  {
   "cell_type": "markdown",
   "metadata": {
    "nbpresent": {
     "id": "ca7f0c34-9c21-4b6e-8010-eda1030df041"
    }
   },
   "source": [
    "# Block Using the Sorted Neighborhood Blocker\n",
    "\n",
    "Once the tables are read, we can do blocking using sorted neighborhood blocker."
   ]
  },
  {
   "cell_type": "markdown",
   "metadata": {
    "nbpresent": {
     "id": "45585660-2ba9-4211-adee-ace14fe8745f"
    }
   },
   "source": [
    "With the sorted neighborhood blocker, you can only block between two tables to produce a candidate set of tuple pairs."
   ]
  },
  {
   "cell_type": "markdown",
   "metadata": {
    "nbpresent": {
     "id": "726bd6c9-23a5-4543-a201-f84864433f20"
    }
   },
   "source": [
    "## Block Tables to Produce a Candidate Set of Tuple Pairs"
   ]
  },
  {
   "cell_type": "code",
   "execution_count": null,
   "metadata": {
    "nbpresent": {
     "id": "d2001a06-fe74-4ebd-896c-992803828753"
    }
   },
   "outputs": [],
   "source": [
    "# Instantiate attribute equivalence blocker object\n",
    "sn = em.SortedNeighborhoodBlocker()"
   ]
  },
  {
   "cell_type": "markdown",
   "metadata": {
    "nbpresent": {
     "id": "06bcba06-ff85-43b7-bb04-ce1566a29dd9"
    }
   },
   "source": [
    "For the given two tables, we will assume that two persons with different `zipcode` values do not refer to the same real world person. So, we apply attribute equivalence blocking on `zipcode`. That is, we block all the tuple pairs that have different zipcodes."
   ]
  },
  {
   "cell_type": "code",
   "execution_count": null,
   "metadata": {
    "nbpresent": {
     "id": "2cdc68f4-5874-43d1-a378-b0bd31552ef8"
    }
   },
   "outputs": [],
   "source": [
    "# Use block_tables to apply blocking over two input tables.\n",
    "C1 = sn.block_tables(A, B, \n",
    "                    l_block_attr='birth_year', r_block_attr='birth_year', \n",
    "                    l_output_attrs=['name', 'birth_year', 'zipcode'],\n",
    "                    r_output_attrs=['name', 'birth_year', 'zipcode'],\n",
    "                    l_output_prefix='l_', r_output_prefix='r_')"
   ]
  },
  {
   "cell_type": "code",
   "execution_count": null,
   "metadata": {
    "nbpresent": {
     "id": "7b4967f5-2f99-4394-bfe9-29ff15334d39"
    }
   },
   "outputs": [],
   "source": [
    "# Display the candidate set of tuple pairs\n",
    "C1.head()"
   ]
  },
  {
   "cell_type": "markdown",
   "metadata": {
    "nbpresent": {
     "id": "386dbb7d-085e-4946-b376-93e686eb62f5"
    }
   },
   "source": [
    "Note that the tuple pairs in the candidate set have the same zipcode. \n",
    "\n",
    "The attributes included in the candidate set are based on l_output_attrs and r_output_attrs mentioned in block_tables command (the key columns are included by default). Specifically, the list of attributes mentioned in l_output_attrs are picked from table A and the list of attributes mentioned in r_output_attrs are picked from table B. The attributes in the candidate set are prefixed based on l_output_prefix and r_ouptut_prefix parameter values mentioned in block_tables command."
   ]
  },
  {
   "cell_type": "code",
   "execution_count": null,
   "metadata": {
    "nbpresent": {
     "id": "fa6af6e5-471b-4296-98f4-1f4d4ee2869a"
    }
   },
   "outputs": [],
   "source": [
    "# Show the metadata of C1\n",
    "em.show_properties(C1)"
   ]
  },
  {
   "cell_type": "code",
   "execution_count": null,
   "metadata": {
    "nbpresent": {
     "id": "6ec70bd1-adea-40af-9f30-304f6236c5ca"
    }
   },
   "outputs": [],
   "source": [
    "id(A), id(B)"
   ]
  },
  {
   "cell_type": "markdown",
   "metadata": {
    "nbpresent": {
     "id": "51679b6c-2667-4ed9-88aa-caff4c81edbf"
    }
   },
   "source": [
    "Note that the metadata of C1 includes key, foreign key to the left and right tables (i.e A and B) and pointers to left and right tables."
   ]
  },
  {
   "cell_type": "markdown",
   "metadata": {},
   "source": [
    "### Handling Missing Values"
   ]
  },
  {
   "cell_type": "markdown",
   "metadata": {},
   "source": [
    "If the input tuples have missing values in the blocking attribute, then they are ignored by default. This is because, including all possible tuple pairs with missing values can significantly increase the size of the candidate set. But if you want to include them, then you can set `allow_missing` paramater to be True."
   ]
  },
  {
   "cell_type": "code",
   "execution_count": null,
   "metadata": {},
   "outputs": [],
   "source": [
    "# Introduce some missing values\n",
    "A1 = em.read_csv_metadata(path_A, key='ID')\n",
    "A1.ix[0, 'zipcode'] = pd.np.NaN\n",
    "A1.ix[0, 'birth_year'] = pd.np.NaN"
   ]
  },
  {
   "cell_type": "code",
   "execution_count": null,
   "metadata": {},
   "outputs": [],
   "source": [
    "A1"
   ]
  },
  {
   "cell_type": "code",
   "execution_count": null,
   "metadata": {},
   "outputs": [],
   "source": [
    "# Use block_tables to apply blocking over two input tables.\n",
    "C2 = sn.block_tables(A1, B, \n",
    "                    l_block_attr='zipcode', r_block_attr='zipcode', \n",
    "                    l_output_attrs=['name', 'birth_year', 'zipcode'],\n",
    "                    r_output_attrs=['name', 'birth_year', 'zipcode'],\n",
    "                    l_output_prefix='l_', r_output_prefix='r_', \n",
    "                    allow_missing=True) # setting allow_missing parameter to True"
   ]
  },
  {
   "cell_type": "code",
   "execution_count": null,
   "metadata": {},
   "outputs": [],
   "source": [
    "len(C1), len(C2)"
   ]
  },
  {
   "cell_type": "code",
   "execution_count": null,
   "metadata": {},
   "outputs": [],
   "source": [
    "C2"
   ]
  },
  {
   "cell_type": "markdown",
   "metadata": {},
   "source": [
    "The candidate set C2 includes all possible tuple pairs with missing values."
   ]
  },
  {
   "cell_type": "markdown",
   "metadata": {},
   "source": [
    "## Window Size\n",
    "\n",
    "A tunable parameter to the Sorted Neighborhood Blocker is the Window size.  To perform the same result as above with a larger window size is via the `window_size` argument.  Note that it has more results than C1."
   ]
  },
  {
   "cell_type": "code",
   "execution_count": null,
   "metadata": {},
   "outputs": [],
   "source": [
    "C3 = sn.block_tables(A, B, \n",
    "                    l_block_attr='birth_year', r_block_attr='birth_year', \n",
    "                    l_output_attrs=['name', 'birth_year', 'zipcode'],\n",
    "                    r_output_attrs=['name', 'birth_year', 'zipcode'],\n",
    "                    l_output_prefix='l_', r_output_prefix='r_', window_size=5)"
   ]
  },
  {
   "cell_type": "code",
   "execution_count": null,
   "metadata": {},
   "outputs": [],
   "source": [
    "len(C1)"
   ]
  },
  {
   "cell_type": "code",
   "execution_count": null,
   "metadata": {},
   "outputs": [],
   "source": [
    "len(C3)"
   ]
  },
  {
   "cell_type": "markdown",
   "metadata": {},
   "source": [
    "## Stable Sort Order\n",
    "\n",
    "One final challenge for the Sorted Neighborhood Blocker is making the sort order stable.  If the column being sorted on has multiple identical keys, and those keys are longer than the window size, then different results may occur between runs.  To always guarantee the same results for every run, make sure to make the sorting column unique.  One method to do so is to append the id of the tuple onto the end of the sorting column.  Here is an example."
   ]
  },
  {
   "cell_type": "code",
   "execution_count": null,
   "metadata": {},
   "outputs": [],
   "source": [
    "A[\"birth_year_plus_id\"]=A[\"birth_year\"].map(str)+'-'+A[\"ID\"].map(str)\n",
    "B[\"birth_year_plus_id\"]=B[\"birth_year\"].map(str)+'-'+A[\"ID\"].map(str)\n",
    "C3 = sn.block_tables(A, B, \n",
    "                    l_block_attr='birth_year_plus_id', r_block_attr='birth_year_plus_id', \n",
    "                    l_output_attrs=['name', 'birth_year_plus_id', 'birth_year', 'zipcode'],\n",
    "                    r_output_attrs=['name', 'birth_year_plus_id', 'birth_year', 'zipcode'],\n",
    "                    l_output_prefix='l_', r_output_prefix='r_', window_size=5)"
   ]
  },
  {
   "cell_type": "code",
   "execution_count": null,
   "metadata": {},
   "outputs": [],
   "source": [
    "C3.head()"
   ]
  },
  {
   "cell_type": "markdown",
   "metadata": {},
   "source": [
    "# Sorted Neighborhood Blocker limitations\n",
    "\n",
    "Since the sorted neighborhood blocker requires position in sorted order, unlike other blockers, blocking on a candidate set or checking two tuples is not applicable.  Attempts to call `block_candset` or `block_tuples` will raise an assertion."
   ]
  }
 ],
 "metadata": {
  "anaconda-cloud": {},
  "kernelspec": {
   "display_name": "Python 3",
   "language": "python",
   "name": "python3"
  },
  "language_info": {
   "codemirror_mode": {
    "name": "ipython",
    "version": 3
   },
   "file_extension": ".py",
   "mimetype": "text/x-python",
   "name": "python",
   "nbconvert_exporter": "python",
   "pygments_lexer": "ipython3",
   "version": "3.6.0"
  }
 },
 "nbformat": 4,
 "nbformat_minor": 1
}
